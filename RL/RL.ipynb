{
  "cells": [
    {
      "cell_type": "markdown",
      "id": "45f80e9b",
      "metadata": {
        "id": "45f80e9b"
      },
      "source": [
        "# 2CS SIQ2-SIL2 TP01. Régression linéaire et logistique binaire\n",
        "\n",
        "Dans ce TP, nous allons traiter la régression linéaire et logistique binaire.\n",
        "Dans la partie I, nous allons implémenter les deux méthodes en utilisant numpy.\n",
        "Dans la partie II, quelques expérimentations serons présentées où nous devons discuter les résulats."
      ]
    },
    {
      "cell_type": "markdown",
      "id": "2245b050",
      "metadata": {
        "id": "2245b050"
      },
      "source": [
        "- **Binôme 01** : HEBBAL Zakaria\n",
        "- **Binôme 02** : BENTAYEB Mohamed Amine\n",
        "\n"
      ]
    },
    {
      "cell_type": "code",
      "execution_count": null,
      "id": "be907956",
      "metadata": {
        "colab": {
          "base_uri": "https://localhost:8080/"
        },
        "id": "be907956",
        "outputId": "4bd2ca0e-c953-4ffb-bf36-5dfe84e5ff4c"
      },
      "outputs": [
        {
          "data": {
            "text/plain": [
              "('1.22.4', '1.4.4', '3.5.3')"
            ]
          },
          "execution_count": 4,
          "metadata": {},
          "output_type": "execute_result"
        }
      ],
      "source": [
        "import matplotlib\n",
        "import numpy             as np\n",
        "import pandas            as pd\n",
        "import matplotlib.pyplot as plt\n",
        "%matplotlib inline\n",
        "\n",
        "np.__version__, pd.__version__, matplotlib.__version__"
      ]
    },
    {
      "cell_type": "code",
      "execution_count": 5,
      "id": "741ccd6f",
      "metadata": {
        "colab": {
          "base_uri": "https://localhost:8080/",
          "height": 35
        },
        "id": "741ccd6f",
        "outputId": "b0c8de77-91fa-4855-d5c9-5216a9536fef"
      },
      "outputs": [
        {
          "data": {
            "application/vnd.google.colaboratory.intrinsic+json": {
              "type": "string"
            },
            "text/plain": [
              "'1.2.2'"
            ]
          },
          "execution_count": 5,
          "metadata": {},
          "output_type": "execute_result"
        }
      ],
      "source": [
        "from typing          import Tuple, List, Type\n",
        "from collections.abc import Callable\n",
        "import sklearn\n",
        "\n",
        "sklearn.__version__"
      ]
    },
    {
      "cell_type": "markdown",
      "id": "e4e3e485",
      "metadata": {
        "id": "e4e3e485"
      },
      "source": [
        "## I. Réalisation des algorithmes\n",
        "\n",
        "Dans cette partie, nous allons implémenter les fonctions de régression à partir de zéro (from scratch). \n",
        "Cela va nous permettre à comprendre COMMENT les algorithmes fonctionnent : leurs complexités (temporelles et spatiales) et leurs paramètres.\n",
        "Pour ce faire, nous allons utiliser la bibliothèque **numpy** qui est utile dans les calcules surtout matricielles.\n",
        "\n",
        "### I.1. Régression linéaire\n",
        "\n",
        "Premièrement, nous allons implémenter les fonctions nécessaire pour la régression linéaire.\n",
        "\n",
        "#### I.1.1. Fonction de prédiction\n",
        "\n",
        "$$Z = zf(X, theta) = \\theta_0 + \\sum\\limits_{j=1}^{N} \\theta_j X_j = \\sum\\limits_{j=0}^{N} \\theta_j X_j | X_0 = 1 $$\n",
        "\n",
        "- **X[M, N]** : une matrice de M échantillons et N caractéristiques. Afin d'introduire $\\theta_0$, cette matrice est augmentée par une colonne $X_0 = 1$. Supposons que cela est déjà fait. Donc, la caractéristique 0  est le biais.\n",
        "- **$\\theta$[N]** : un vecteur des paramètres (poids des caractéristiques). Supposons que le biais est déjà ajouté.\n",
        "- **Z(X, $\\theta$)[M]** : un vecteur des préditions de chaque échantillon."
      ]
    },
    {
      "cell_type": "code",
      "execution_count": 6,
      "id": "535fe535",
      "metadata": {
        "colab": {
          "base_uri": "https://localhost:8080/"
        },
        "id": "535fe535",
        "outputId": "6a22dc73-43ef-4d8f-dbf9-bea48cc7716e"
      },
      "outputs": [
        {
          "data": {
            "text/plain": [
              "array([1. , 1.7, 2.4])"
            ]
          },
          "execution_count": 6,
          "metadata": {},
          "output_type": "execute_result"
        }
      ],
      "source": [
        "# TODO: Combinaison linéaire\n",
        "def zf(X ,Theta) :\n",
        "  return np.matmul(X,Theta)\n",
        "\n",
        "#=====================================================================\n",
        "# TEST UNITAIRE\n",
        "#=====================================================================\n",
        "# Resultat : array([1. , 1.7, 2.4])\n",
        "#---------------------------------------------------------------------\n",
        "X_t     = np.array([[1., 100.], \n",
        "                    [1., 200.], \n",
        "                    [1., 300.]])\n",
        "Theta_t = np.array([0.3, 0.007])\n",
        "zf(X_t, Theta_t)"
      ]
    },
    {
      "cell_type": "markdown",
      "id": "42a9aaa1",
      "metadata": {
        "id": "42a9aaa1"
      },
      "source": [
        "#### I.1.2. Fonction du coût\n",
        "\n",
        "La fonction du coût calcule l'erreur d'estimation. \n",
        "Ici, nous allons utiliser l'erreur quadratique moyenne (MSE: mean square error). \n",
        "\n",
        "$$J = MSE(Y, H) = \\frac{1}{2M} \\sum\\limits_{i=1}^{M} (Y - H)^2$$\n",
        "\n",
        "- **Y[M]** : un vecteur des sorties réelles.\n",
        "- **H[M]** : un vecteur des prédictions où $H = Z(X, \\theta)$.\n",
        "- **MSE(Y, H)** : une valeur réelle représentant l'erreur de régression."
      ]
    },
    {
      "cell_type": "code",
      "execution_count": 7,
      "id": "0bb78d63",
      "metadata": {
        "colab": {
          "base_uri": "https://localhost:8080/"
        },
        "id": "0bb78d63",
        "outputId": "a222c178-69e7-42d5-d0d3-bca66da066ff"
      },
      "outputs": [
        {
          "data": {
            "text/plain": [
              "0.016666666666666673"
            ]
          },
          "execution_count": 7,
          "metadata": {},
          "output_type": "execute_result"
        }
      ],
      "source": [
        "# TODO: Fonction du coût MSE\n",
        "def MSE(Y ,H):\n",
        "    A=(Y-H)**2\n",
        "    sum=np.average(A,axis=0)/2\n",
        "    return sum\n",
        "\n",
        "\n",
        "#=====================================================================\n",
        "# TEST UNITAIRE\n",
        "#=====================================================================\n",
        "# Resultat : 0.016666666666666673\n",
        "#---------------------------------------------------------------------\n",
        "H_t = np.array([1. , 1.7, 2.4])\n",
        "Y_t = np.array([1., 2., 2.5])\n",
        "MSE(Y_t, H_t)"
      ]
    },
    {
      "cell_type": "markdown",
      "id": "e543323b",
      "metadata": {
        "id": "e543323b"
      },
      "source": [
        "Le gradient de cette fonction est calculé comme suit (Où $X^{(i)}$ est l'échantillon $i$ et $Y^{(i)}$ est la prédiction. $X_0^{(i)} = 1$) : \n",
        "\n",
        "$$\\frac{\\partial MSE}{\\partial \\theta_j} \n",
        "= \\frac{\\partial }{\\partial \\theta_j} \\frac{1}{2M} \\sum\\limits_{i=1}^{M} (Y^{(i)} - H^{(i)})^2 \n",
        "= \\frac{1}{2M} \\sum\\limits_{i=1}^{M} [\\frac{\\partial }{\\partial \\theta_j} (Y^{(i)} - H^{(i)})^2]\n",
        "= \\frac{1}{2M} \\sum\\limits_{i=1}^{M} [-2 (Y^{(i)} - H^{(i)}) \\frac{\\partial }{\\partial \\theta_j} H^{(i)}]\n",
        "$$\n",
        "\n",
        "$$\\frac{\\partial MSE}{\\partial \\theta_j}\n",
        "= \\frac{1}{M} \\sum\\limits_{i=1}^{M} [(H^{(i)} - Y^{(i)}) \\frac{\\partial }{\\partial \\theta_j} \\sum\\limits_{k=0}^{N} \\theta_k X_k^{(i)}]\n",
        "= \\frac{1}{M} \\sum\\limits_{i=1}^{M} [(H^{(i)} - Y^{(i)}) \\frac{\\partial }{\\partial \\theta_j} \\theta_j X_j^{(i)}]\n",
        "$$\n",
        "\n",
        "$$\\frac{\\partial MSE}{\\partial \\theta_j} = \\frac{1}{M} \\sum\\limits_{i=1}^{M} (H^{(i)} - Y^{(i)}) X_j^{(i)}$$\n",
        "\n",
        "- **X[M, N]** : une matrice de M échantillons et N caractéristiques. \n",
        "- **Y[M]** : un vecteur des sorties réelles.\n",
        "- **H[M]** : un vecteur des prédictions où $H = Z(X, \\theta)$.\n",
        "- **dMSE(X, Y, H)[N]** : les gradients de chaque caractéristique."
      ]
    },
    {
      "cell_type": "code",
      "execution_count": 10,
      "id": "3f82adf2",
      "metadata": {
        "colab": {
          "base_uri": "https://localhost:8080/"
        },
        "id": "3f82adf2",
        "outputId": "b924c240-e8f7-4b88-8386-37d9786dda77"
      },
      "outputs": [
        {
          "data": {
            "text/plain": [
              "array([ -0.13333333, -30.        ])"
            ]
          },
          "execution_count": 10,
          "metadata": {},
          "output_type": "execute_result"
        }
      ],
      "source": [
        "# TODO: Gradients MSE\n",
        "def dMSE(X,Y, H):\n",
        "    A=H-Y\n",
        "    B=np.matmul(A,X)\n",
        "    B=B/len(Y)\n",
        "    return B\n",
        "#=====================================================================\n",
        "# TEST UNITAIRE\n",
        "#=====================================================================\n",
        "# Resultat : array([ -0.13333333, -30.        ])\n",
        "#---------------------------------------------------------------------\n",
        "X_t = np.array([[1., 100.], \n",
        "                [1., 200.], \n",
        "                [1., 300.]])\n",
        "H_t = np.array([1. , 1.7, 2.4])\n",
        "Y_t = np.array([1., 2., 2.5])\n",
        "dMSE(X_t, Y_t, H_t)"
      ]
    },
    {
      "cell_type": "markdown",
      "id": "68216bd2",
      "metadata": {
        "id": "68216bd2"
      },
      "source": [
        "### I.2. Régression logistique\n",
        "\n",
        "Ici, nous allons implémenter la régression logistique qui est basée sur la combinaison linéaire de la régression linaire.\n",
        "Il suffit d'appliquer la fonction logistique sur cette combinaison afin de la transformer à une probabilité.\n",
        "\n",
        "#### I.2.1. Fonction de prédiction\n",
        "\n",
        "La fonction logistique est calculée comme suit :\n",
        "\n",
        "$$\\sigma(Z) = \\frac{1}{1+e^{-Z}}$$\n",
        "\n",
        "- **Z[M]** : un vecteur des sommes pondérées $Z(X, \\theta)$.\n",
        "- **$\\sigma$(Z)[M]** : un vecteur des prédictions. \n",
        "- Normalement, cette fonction doit marcher avec un scalaire, un vecteur ou une matrice. Pour l'instant, nous nous intéressons par le cas d'un vecteur."
      ]
    },
    {
      "cell_type": "code",
      "execution_count": 11,
      "id": "cc7b9af1",
      "metadata": {
        "colab": {
          "base_uri": "https://localhost:8080/"
        },
        "id": "cc7b9af1",
        "outputId": "0ea719b4-13dd-4c94-b738-1661500e50f8"
      },
      "outputs": [
        {
          "data": {
            "text/plain": [
              "array([0.26894142, 0.73105858])"
            ]
          },
          "execution_count": 11,
          "metadata": {},
          "output_type": "execute_result"
        }
      ],
      "source": [
        "# TODO: Fonction logistique\n",
        "def sg(Z): \n",
        "    return 1/(1+np.exp(-Z))\n",
        "\n",
        "#=====================================================================\n",
        "# TEST UNITAIRE\n",
        "#=====================================================================\n",
        "# Resultat : array([0.26894142, 0.73105858])\n",
        "#---------------------------------------------------------------------\n",
        "sg(np.array([-1, 1]))"
      ]
    },
    {
      "cell_type": "markdown",
      "id": "22dc6e90",
      "metadata": {
        "id": "22dc6e90"
      },
      "source": [
        "La fonction de prédiction sera :\n",
        "\n",
        "$$H(X, \\theta) = \\sigma(Z(X, \\theta)) $$\n",
        "\n",
        "- **X[M, N]** : une matrice de M échantillons et N caractéristiques.\n",
        "- **$\\theta$[N]** : un vecteur des paramètres (poids des caractéristiques).\n",
        "- **Z(X, $\\theta$)[M]** : un vecteur des sommes pondérées de chaque échantillon.\n",
        "- **H(X, $\\theta$)[M]** : un vecteur des prédictions de chaque échantillon."
      ]
    },
    {
      "cell_type": "code",
      "execution_count": 13,
      "id": "85d16e75",
      "metadata": {
        "colab": {
          "base_uri": "https://localhost:8080/"
        },
        "id": "85d16e75",
        "outputId": "28257a8a-de40-40af-8522-d387d42d269c"
      },
      "outputs": [
        {
          "data": {
            "text/plain": [
              "array([0.73105858, 0.55724785, 0.14185106])"
            ]
          },
          "execution_count": 13,
          "metadata": {},
          "output_type": "execute_result"
        }
      ],
      "source": [
        "# TODO: Prédiction (régression logistique)\n",
        "def Hf_log(X , Theta ):\n",
        "  return sg(zf(X , Theta))\n",
        "    \n",
        "\n",
        "#=====================================================================\n",
        "# TEST UNITAIRE\n",
        "#=====================================================================\n",
        "# Resultat : array([0.73105858, 0.55724785, 0.14185106])\n",
        "#---------------------------------------------------------------------\n",
        "X_t = np.array([[1., -100.], \n",
        "                [1.,   10.], \n",
        "                [1., 300.]])\n",
        "Theta_t = np.array([0.3, -0.007])\n",
        "Hf_log(X_t, Theta_t)"
      ]
    },
    {
      "cell_type": "markdown",
      "id": "e146af18",
      "metadata": {
        "id": "e146af18"
      },
      "source": [
        "#### I.2.2. Fonction du coût\n",
        "\n",
        "Ici, nous allons utiliser l'entropie croisée binaire (BCE: Binary Cross Entropy Loss) comme fonction du coût.\n",
        "C'est la fontion utilisée dans le cas de classement binaire.\n",
        "\n",
        "$$BCE(Y^{(i)}, H^{(i)})\n",
        "= \\begin{cases}\n",
        "- \\log(H^{(i)}) & \\text{ si } Y^{(i)} = 1\\\\ \n",
        "- \\log(1 - H^{(i)})  & \\text{ si } Y^{(i)} = 0\n",
        "\\end{cases}\n",
        "$$\n",
        "Puisque $Y^{(i)} \\in \\{0, 1\\}$, donc : \n",
        "\n",
        "$$ BCE(Y^{(i)}, H^{(i)}) = - Y^{(i)} \\log(H^{(i)}) - (1- Y^{(i)}) \\log(1 - H^{(i)}) $$\n",
        "\n",
        "$$J = BCE(Y, H) = \\frac{-1}{M} \\sum\\limits_{i=1}^{M} [Y^{(i)} \\log(H^{(i)}) + (1- Y^{(i)}) \\log(1 - H^{(i)})]$$\n",
        "\n",
        "En pratique, on doit ajouter une petite valeur $\\epsilon$ à l'argument de la fonction $\\log$ afin d'éviter $\\log(0)$.\n",
        "\n",
        "- **Y[M]** : un vecteur des sorties réelles.\n",
        "- **H[M]** : un vecteur des prédictions.\n",
        "- **BCE(Y, H)** : une valeur réelle représentant l'erreur de classement."
      ]
    },
    {
      "cell_type": "code",
      "execution_count": 14,
      "id": "d315971c",
      "metadata": {
        "colab": {
          "base_uri": "https://localhost:8080/"
        },
        "id": "d315971c",
        "outputId": "f222f235-2cda-41b5-8221-573b164554eb"
      },
      "outputs": [
        {
          "data": {
            "text/plain": [
              "(0.6181210324473608, 0.6178044304816226)"
            ]
          },
          "execution_count": 14,
          "metadata": {},
          "output_type": "execute_result"
        }
      ],
      "source": [
        "# TODO: Fonction du coût BCE\n",
        "def BCE(Y,H,eps ) -> float: \n",
        "    A=np.multiply(Y , np.log(eps+H)) \n",
        "    B= np.multiply(1-Y , np.log(eps+1-H))\n",
        "    C=A+B\n",
        "    return -1*np.average(C)\n",
        "#=====================================================================\n",
        "# TEST UNITAIRE\n",
        "#=====================================================================\n",
        "# Resultat (sans epsilon, avec) : (0.6181210324473608, 0.61812101133625)\n",
        "#---------------------------------------------------------------------\n",
        "Y_t = np.array([1., 0., 0., 1.])\n",
        "H_t = np.array([0.25, 0.25, 0.5, 0.9])\n",
        "BCE(Y_t, H_t, eps=0), BCE(Y_t, H_t, eps=0.00015)"
      ]
    },
    {
      "cell_type": "markdown",
      "id": "2e251194",
      "metadata": {
        "id": "2e251194"
      },
      "source": [
        "Le gradient de cette fonction est calculé comme suit : \n",
        "\n",
        "$$\\frac{\\partial BCE}{\\partial \\theta_j} \n",
        "= \\frac{-1}{M} \\sum\\limits_{i=1}^{M} \\frac{\\partial}{\\partial \\theta_j} [Y^{(i)} \\log(H^{(i)}) + (1- Y^{(i)}) \\log(1 - H^{(i)})]\n",
        "$$\n",
        "\n",
        "$$\\frac{\\partial BCE}{\\partial \\theta_j} \n",
        "= \\frac{-1}{M} \\sum\\limits_{i=1}^{M} [ Y^{(i)} \\frac{\\partial}{\\partial \\theta_j} \\log(H^{(i)}) + (1- Y^{(i)}) \\frac{\\partial}{\\partial \\theta_j}\\log(1 - H^{(i)})]\n",
        "$$\n",
        "\n",
        "$$\\frac{\\partial BCE}{\\partial \\theta_j} \n",
        "= \\frac{-1}{M} \\sum\\limits_{i=1}^{M} [ Y^{(i)} \\frac{1}{H^{(i)}} \\frac{\\partial}{\\partial \\theta_j} H^{(i)} + (1- Y^{(i)}) \\frac{-1}{1-H^{(i)}} \\frac{\\partial}{\\partial \\theta_j} H^{(i)})]\n",
        "= \\frac{-1}{M} \\sum\\limits_{i=1}^{M} \\frac{Y^{(i)}-H^{(i)}}{H^{(i)}(1-H^{(i)})} \\frac{\\partial}{\\partial \\theta_j} H^{(i)}\n",
        "$$\n",
        "\n",
        "$$\\frac{\\partial H^{(i)}}{\\partial \\theta_j} \n",
        "= \\frac{\\partial \\sigma(Z^{(i)})}{\\partial Z^{(i)}} \\frac{\\partial Z^{(i)}}{\\partial \\theta_j} \n",
        "= [\\sigma(Z^{(i)}) (1-\\sigma(Z^{(i)}))]\\frac{\\partial}{\\partial \\theta_j} \\sum\\limits_{k=0}^{N} \\theta_k X_k^{(i)}  \n",
        "= H^{(i)} (1-H^{(i)})  X_j^{(i)}\n",
        "$$\n",
        "\n",
        "$$\\frac{\\partial BCE}{\\partial \\theta_j} \n",
        "= \\frac{-1}{M} \\sum\\limits_{i=1}^{M} \\frac{Y^{(i)}-H^{(i)}}{H^{(i)}(1-H^{(i)})} [H^{(i)} (1-H^{(i)}) X_j^{(i)}]\n",
        "$$\n",
        "\n",
        "$$\\frac{\\partial BCE}{\\partial \\theta_j} = \\frac{1}{M} \\sum\\limits_{i=1}^{M} (H^{(i)} - Y^{(i)}) X_j^{(i)}$$\n",
        "\n",
        "- \n",
        "Où $X^{(i)}$ est l'échantillon $i$ et $Y^{(i)}$ est la prédiction. $X_0^{(i)} = 1$"
      ]
    },
    {
      "cell_type": "code",
      "execution_count": 15,
      "id": "49495c49",
      "metadata": {
        "colab": {
          "base_uri": "https://localhost:8080/"
        },
        "id": "49495c49",
        "outputId": "a1c44e3f-0500-4569-813f-246b6fb5ff54"
      },
      "outputs": [
        {
          "data": {
            "text/plain": [
              "array([-0.08333333, -0.25      ])"
            ]
          },
          "execution_count": 15,
          "metadata": {},
          "output_type": "execute_result"
        }
      ],
      "source": [
        "# La fonction de gradient BCE est la même que celle de MSE\n",
        "# Donc, je vais l'implémenter moi-même puisque c'est facile\n",
        "dBCE = dMSE\n",
        "\n",
        "#=====================================================================\n",
        "# TEST UNITAIRE\n",
        "#=====================================================================\n",
        "# Resultat : array([-0.08333333, -0.25      ])\n",
        "#---------------------------------------------------------------------\n",
        "X_t = np.array([[1., 5.], \n",
        "                [1., 10.], \n",
        "                [1., 8]])\n",
        "H_t = np.array([2.75, 5.25, 4.25])\n",
        "Y_t = np.array([3., 5., 4.5])\n",
        "dMSE(X_t, Y_t, H_t)"
      ]
    },
    {
      "cell_type": "markdown",
      "id": "d589d278",
      "metadata": {
        "id": "d589d278"
      },
      "source": [
        "### I.3. Descente du gradient \n",
        "\n",
        "La descente du gradient est un algorithme itératif.\n",
        "Pour chaque itération, nous calculons l'erreur et le gradient.\n",
        "Ensuite, nous mettons à jours les paramètres en se basant sur ces gradients.\n",
        "Si la condition d'arrêt est satisfaite, nous sortons de l'algorithme.\n",
        "\n",
        "#### I.3.1. Arrêt de la descente\n",
        "\n",
        "Dans notre cas, la fonction d'arrêt est basée sur ces arguments :\n",
        "- L'erreur courante $Jc$ et l'erreur passée $Jp$\n",
        "- Le maximum des itérations $IT$ et l'itération courante $it$\n",
        "\n",
        "Cette fonction retourne $True$ si :\n",
        "- Le nombre maximal des itérations a été atteint\n",
        "- L'argument $up=True$ et l'erreur a augmenté"
      ]
    },
    {
      "cell_type": "code",
      "execution_count": 16,
      "id": "51425024",
      "metadata": {
        "colab": {
          "base_uri": "https://localhost:8080/"
        },
        "id": "51425024",
        "outputId": "7b4a535d-2385-4e8f-8e97-6dd678e35316"
      },
      "outputs": [
        {
          "data": {
            "text/plain": [
              "(False, True, True, False)"
            ]
          },
          "execution_count": 16,
          "metadata": {},
          "output_type": "execute_result"
        }
      ],
      "source": [
        "# TODO: Fonction d'arret de la descente du gradient\n",
        "def arreter(Jp: float    , \n",
        "            Jc: float    , \n",
        "            IT: int      , \n",
        "            it: int      , \n",
        "            up: bool=True) -> bool:\n",
        "   return (it==IT) or (up==True and Jc>Jp)\n",
        "\n",
        "#=====================================================================\n",
        "# TEST UNITAIRE\n",
        "#=====================================================================\n",
        "# Resultat : (False, True, True, False)\n",
        "#---------------------------------------------------------------------\n",
        "arreter(0.5, 0.2, 100, 0), \\\n",
        "arreter(0.1, 0.2, 100, 5), \\\n",
        "arreter(0.5, 0.2, 100, 100), \\\n",
        "arreter(0.1, 0.2, 100, 5, up=False)"
      ]
    },
    {
      "cell_type": "markdown",
      "id": "eada0c36",
      "metadata": {
        "id": "eada0c36"
      },
      "source": [
        "#### I.3.2. Mise à jours des paramètres\n",
        "\n",
        "Rendre de nouveaux paramètres mis à jours en se basant sur les anciens paramètres $\\theta$, le gradient $\\frac{\\partial J}{\\partial \\theta_j}$ et le taux d'apprentissage $\\alpha$.\n",
        "\n",
        "$$\\forall j \\le N, \\theta_j = \\theta_j - \\alpha \\frac{\\partial J}{\\partial \\theta}$$\n",
        "\n",
        "Il faut rendre un vecteur des paramètres mis à jours sans modifier l'original (principe d'atomacité)"
      ]
    },
    {
      "cell_type": "code",
      "execution_count": 18,
      "id": "928e4d10",
      "metadata": {
        "colab": {
          "base_uri": "https://localhost:8080/"
        },
        "id": "928e4d10",
        "outputId": "19ff741e-5801-4d6c-b97d-51a7e14089ef"
      },
      "outputs": [
        {
          "data": {
            "text/plain": [
              "array([0.30013333, 0.037     ])"
            ]
          },
          "execution_count": 18,
          "metadata": {},
          "output_type": "execute_result"
        }
      ],
      "source": [
        "# TODO: Mise à jours des paramètres\n",
        "def maj_param(Theta: 'np.ndarray[N]', \n",
        "              dJ   : 'np.ndarray[N]', \n",
        "              alpha: float          ) -> 'np.ndarray[N]':\n",
        "    \n",
        "    return Theta-alpha*dJ \n",
        "\n",
        "#=====================================================================\n",
        "# TEST UNITAIRE\n",
        "#=====================================================================\n",
        "# Resultat : array([0.30013333, 0.037     ])\n",
        "#---------------------------------------------------------------------\n",
        "Theta_t = np.array([0.3, 0.007])\n",
        "Gradient_t = np.array([ -0.13333333, -30.])\n",
        "alpha_t = 0.001\n",
        "maj_param(Theta_t, Gradient_t, alpha_t)"
      ]
    },
    {
      "cell_type": "markdown",
      "id": "dfe2cf09",
      "metadata": {
        "id": "dfe2cf09"
      },
      "source": [
        "#### I.3.3. Descente du gradient \n",
        "\n",
        "**Rien à programmer ici**\n",
        "\n",
        "Dans cette fonction, nous allons itérer jusqu'à arriver au nombre max des itérations (pas d'autres conditions d'arrêt).\n",
        "\n",
        "- **X[M, N]** : une matrice de M échantillons et N caractéristiques.\n",
        "- **Y[M]** : un vecteur des sorties réelles.\n",
        "- **$\\theta$[N]** : un vecteur des paramètres (poids des caractéristiques).\n"
      ]
    },
    {
      "cell_type": "code",
      "execution_count": 19,
      "id": "0e909e86",
      "metadata": {
        "colab": {
          "base_uri": "https://localhost:8080/"
        },
        "id": "0e909e86",
        "outputId": "94ca6785-542d-404b-a246-4292a27522ff"
      },
      "outputs": [
        {
          "data": {
            "text/plain": [
              "(array([ 0.66632271, -0.12058394,  0.93814202]), 0.6851763009679036)"
            ]
          },
          "execution_count": 19,
          "metadata": {},
          "output_type": "execute_result"
        }
      ],
      "source": [
        "# La fonction de la descente du gradient\n",
        "def descente(X    : 'np.ndarray[M, N]', # Matrice des echantillons (obligatoire)\n",
        "             Y    : 'np.ndarray[M]'   , # Vecteur des classes (obligatoire)\n",
        "             Theta: 'np.ndarray[N]'   , # Paramètres (obligatoire)\n",
        "             IT   : int      = 100    , # nombre maximal des itérations\n",
        "             alpha: float    = 0.01   , # taux d'apprentissage\n",
        "             up   : bool     = False  , # si on s'arrete si l'erreur augmente\n",
        "             Hf   : Callable = Hf_log , # la fonction qui calule la sortie\n",
        "             Jf   : Callable = BCE    , # la fonction du coût\n",
        "             dJf  : Callable = dBCE     # la fonction du gradient\n",
        "            ) -> Tuple[List[np.ndarray], List[float]]: \n",
        "     \n",
        "    couts  = []           # historique des coûts\n",
        "    Thetas = []           # historique des thetas\n",
        "    Theta  = Theta.copy() # une copie pour garder le contenu de Theta original\n",
        "    \n",
        "    Hp = Hf(X, Theta)\n",
        "    Jp = Jf(Y, Hp, eps=0.00001)\n",
        "    it = 0\n",
        "    \n",
        "    # Ici, boucle infinie jusqu'à ce que la condition d'arrêt est atteinte \n",
        "    while True:\n",
        "        Thetas.append(Theta.copy()) # garder une copie des paramètres\n",
        "        couts.append(Jp) # ajouter l'erreur passée\n",
        "    \n",
        "        dJ = dJf(X, Y, Hp) # calculer les gradients passées\n",
        "        Theta = maj_param(Theta, dJ, alpha) # mettre à jours les paramètres\n",
        "        Hc = Hf(X, Theta) # calculer la nouvelle sortie\n",
        "        Jc = Jf(Y, Hc,eps=0.00001) # calculer la nouvelle erreur\n",
        "        \n",
        "        it += 1 \n",
        "        \n",
        "        if arreter(Jp, Jc, IT, it, up=up):\n",
        "            break # si la condition d'arrêt est satisfaite, sortir\n",
        "        \n",
        "        Jp = Jc\n",
        "        Hp = Hc\n",
        "        \n",
        "    return Thetas, couts\n",
        "\n",
        "#=====================================================================\n",
        "# TEST UNITAIRE\n",
        "#=====================================================================\n",
        "# Resultat : (array([ 0.66632271, -0.12058394,  0.93814202]), 0.6851969300532375)\n",
        "#---------------------------------------------------------------------\n",
        "\n",
        "X_t = np.array([\n",
        "    [1, 1, 0.2],\n",
        "    [1, 2, 0.1],\n",
        "    [1, 3, 0.4],\n",
        "    [1, 4, 0.3]\n",
        "])\n",
        "\n",
        "Theta_t = np.array([1., 1., 1.])\n",
        "\n",
        "Y_t = np.array([1, 0, 1, 0])\n",
        "\n",
        "Theta_P, J_P = descente(X_t, Y_t, Theta_t)\n",
        "\n",
        "Theta_P[-1], J_P[-1]"
      ]
    },
    {
      "cell_type": "markdown",
      "id": "4f01017b",
      "metadata": {
        "id": "4f01017b"
      },
      "source": [
        "### I.4. Regrouper les fonctions \n",
        "\n",
        "**Rien à programmer ici**\n",
        "\n",
        "Nous voulons créer une classe qui supporte la régression linéaire et la régression logistique.\n"
      ]
    },
    {
      "cell_type": "code",
      "execution_count": 21,
      "id": "c118ece3",
      "metadata": {
        "colab": {
          "base_uri": "https://localhost:8080/"
        },
        "id": "c118ece3",
        "outputId": "eb7a74fd-fc0b-4429-d7a3-1cbe64cd40a8"
      },
      "outputs": [
        {
          "data": {
            "text/plain": [
              "array([0.86525915, 0.5317788 , 0.9614326 ])"
            ]
          },
          "execution_count": 21,
          "metadata": {},
          "output_type": "execute_result"
        }
      ],
      "source": [
        "# la fonction de normalisation\n",
        "# X: un vecteur de M échantillons et N caractéristiques\n",
        "# mean: un vecteur de N nombres qui représentent les moyennes des caractéristiques\n",
        "# std: un vecteur de N nombres qui représentent les écarts types des caractéristiques\n",
        "# si mean et std ne sont pas donnés, ils vont êtres calculés à partir de X\n",
        "def normaliser(X, mean=None, std=None): \n",
        "    if (mean is None) or (std is None): \n",
        "        mean = np.mean(X, axis=0) \n",
        "        std  = np.std (X, axis=0)\n",
        "    X_norm = np.where(std==0, X, (X - mean)/std)\n",
        "    return X_norm, mean, std\n",
        "\n",
        "def preparer(X, norm=True, const=True, mean=None, std=None): \n",
        "    X_pre = X.copy()\n",
        "    if norm: \n",
        "        X_pre, mean, std = normaliser(X_pre, mean=mean, std=std)\n",
        "    if const:\n",
        "        X_pre = np.append(np.ones((X_pre.shape[0], 1)), X_pre, axis=1)\n",
        "    return X_pre, mean, std\n",
        "\n",
        "def generer_zeros_1(nbr):\n",
        "    return np.zeros(nbr)\n",
        "\n",
        "def generer_uns_1(nbr):\n",
        "    return np.ones(nbr)\n",
        "\n",
        "def generer_aleatoire_1(nbr):\n",
        "    return np.random.rand(nbr)\n",
        "\n",
        "\n",
        "class Regression(object):\n",
        "    def __init__(self, alpha=.01, log=True, norm=True, const=True): \n",
        "        \n",
        "        self.norm  = norm\n",
        "        self.const = const\n",
        "        self.alpha = alpha\n",
        "        self.log   = log\n",
        "        \n",
        "        if log: # Régression logistique\n",
        "            self.Hf  = Hf_log \n",
        "            self.Jf  = BCE\n",
        "            self.dJf = dBCE\n",
        "        else: # Régression linéaire\n",
        "            self.Hf  = zf\n",
        "            self.Jf  = MSE\n",
        "            self.dJf = dMSE\n",
        "        \n",
        "    \n",
        "    def entrainer(self, X, Y, IT=100, up=False): \n",
        "        X_pre, self.mean, self.std = preparer(X, norm=self.norm, const=self.const)\n",
        "        Theta = generer_uns_1(X_pre.shape[1])# Supposons, les paramètres sont initialisés à 1\n",
        "        self.Thetas, self.couts = descente(X_pre, \n",
        "                                           Y, \n",
        "                                           Theta, \n",
        "                                           IT     = IT, \n",
        "                                           alpha  = self.alpha, # arguments de régularisation\n",
        "                                           up     = up,\n",
        "                                           Hf     = self.Hf, # fonction logistique\n",
        "                                           Jf     = self.Jf,\n",
        "                                           dJf    = self.dJf\n",
        "                                          )\n",
        "        \n",
        "    # La prédiction\n",
        "    # si classes=True elle rend un vecteur de 1 et 0\n",
        "    # sinon elle rend un vecteur de probabilités\n",
        "    def predire(self, X, classes=True, seuil=0.5):\n",
        "        X_pre, _, _ = preparer(X, \n",
        "                               norm  = self.norm, \n",
        "                               const = self.const, \n",
        "                               mean  = self.mean, \n",
        "                               std   = self.std\n",
        "                              )\n",
        "        H = self.Hf(X_pre, self.Thetas[-1])\n",
        "        if self.log and classes:\n",
        "            return (H >= seuil).astype(int)\n",
        "        return H\n",
        "\n",
        "#=====================================================================\n",
        "# TEST UNITAIRE\n",
        "#=====================================================================\n",
        "# Resultat : array([0.86525915, 0.5317788 , 0.9614326 ])\n",
        "#---------------------------------------------------------------------\n",
        "\n",
        "X_t = np.array([\n",
        "    [100, 20],\n",
        "    [200, 10],\n",
        "    [300, 40],\n",
        "    [400, 30]\n",
        "])\n",
        "\n",
        "Y_t = np.array([1, 0, 1, 0])\n",
        "\n",
        "# logistique\n",
        "reglog = Regression()\n",
        "reglog.entrainer(X_t, Y_t)\n",
        "\n",
        "reglog.Thetas[-1]"
      ]
    },
    {
      "cell_type": "markdown",
      "id": "72549831",
      "metadata": {
        "id": "72549831"
      },
      "source": [
        "## II. Application et analyse\n",
        "\n",
        "Cette partie sert à appliquer les algorithmes, modifier les hyper-paramètres et analyser les résultats.\n",
        "Son but est de comprendre comment les hyper-paramètres peuvent affeter le fonctionnement d'un algorithme.\n",
        "\n",
        "### II.1. Régression linéaire\n",
        "\n",
        "Pour tester la régression linéaire, nous allons essayer d'estimer les prix des maisons en se basant sur leurs superficies.\n",
        "Pour ce faire, nous allons diviser notre dataset en deux : 80% pour l'entraînement et 20% pour le test (nous avons désactivé la dividion aléatoire afin d'avoir les mêmes résultats à chaque exécution)."
      ]
    },
    {
      "cell_type": "code",
      "execution_count": 23,
      "id": "f3def278",
      "metadata": {
        "colab": {
          "base_uri": "https://localhost:8080/",
          "height": 206
        },
        "id": "f3def278",
        "outputId": "27e743e2-9f08-4c96-ebaf-e51c0056e95f"
      },
      "outputs": [
        {
          "data": {
            "text/html": [
              "\n",
              "  <div id=\"df-ddad587a-0b9f-468c-8b41-728fad937737\">\n",
              "    <div class=\"colab-df-container\">\n",
              "      <div>\n",
              "<style scoped>\n",
              "    .dataframe tbody tr th:only-of-type {\n",
              "        vertical-align: middle;\n",
              "    }\n",
              "\n",
              "    .dataframe tbody tr th {\n",
              "        vertical-align: top;\n",
              "    }\n",
              "\n",
              "    .dataframe thead th {\n",
              "        text-align: right;\n",
              "    }\n",
              "</style>\n",
              "<table border=\"1\" class=\"dataframe\">\n",
              "  <thead>\n",
              "    <tr style=\"text-align: right;\">\n",
              "      <th></th>\n",
              "      <th>Superficie</th>\n",
              "      <th>Prix</th>\n",
              "    </tr>\n",
              "  </thead>\n",
              "  <tbody>\n",
              "    <tr>\n",
              "      <th>0</th>\n",
              "      <td>2104</td>\n",
              "      <td>399900</td>\n",
              "    </tr>\n",
              "    <tr>\n",
              "      <th>1</th>\n",
              "      <td>1600</td>\n",
              "      <td>329900</td>\n",
              "    </tr>\n",
              "    <tr>\n",
              "      <th>2</th>\n",
              "      <td>2400</td>\n",
              "      <td>369000</td>\n",
              "    </tr>\n",
              "    <tr>\n",
              "      <th>3</th>\n",
              "      <td>1416</td>\n",
              "      <td>232000</td>\n",
              "    </tr>\n",
              "    <tr>\n",
              "      <th>4</th>\n",
              "      <td>3000</td>\n",
              "      <td>539900</td>\n",
              "    </tr>\n",
              "  </tbody>\n",
              "</table>\n",
              "</div>\n",
              "      <button class=\"colab-df-convert\" onclick=\"convertToInteractive('df-ddad587a-0b9f-468c-8b41-728fad937737')\"\n",
              "              title=\"Convert this dataframe to an interactive table.\"\n",
              "              style=\"display:none;\">\n",
              "        \n",
              "  <svg xmlns=\"http://www.w3.org/2000/svg\" height=\"24px\"viewBox=\"0 0 24 24\"\n",
              "       width=\"24px\">\n",
              "    <path d=\"M0 0h24v24H0V0z\" fill=\"none\"/>\n",
              "    <path d=\"M18.56 5.44l.94 2.06.94-2.06 2.06-.94-2.06-.94-.94-2.06-.94 2.06-2.06.94zm-11 1L8.5 8.5l.94-2.06 2.06-.94-2.06-.94L8.5 2.5l-.94 2.06-2.06.94zm10 10l.94 2.06.94-2.06 2.06-.94-2.06-.94-.94-2.06-.94 2.06-2.06.94z\"/><path d=\"M17.41 7.96l-1.37-1.37c-.4-.4-.92-.59-1.43-.59-.52 0-1.04.2-1.43.59L10.3 9.45l-7.72 7.72c-.78.78-.78 2.05 0 2.83L4 21.41c.39.39.9.59 1.41.59.51 0 1.02-.2 1.41-.59l7.78-7.78 2.81-2.81c.8-.78.8-2.07 0-2.86zM5.41 20L4 18.59l7.72-7.72 1.47 1.35L5.41 20z\"/>\n",
              "  </svg>\n",
              "      </button>\n",
              "      \n",
              "  <style>\n",
              "    .colab-df-container {\n",
              "      display:flex;\n",
              "      flex-wrap:wrap;\n",
              "      gap: 12px;\n",
              "    }\n",
              "\n",
              "    .colab-df-convert {\n",
              "      background-color: #E8F0FE;\n",
              "      border: none;\n",
              "      border-radius: 50%;\n",
              "      cursor: pointer;\n",
              "      display: none;\n",
              "      fill: #1967D2;\n",
              "      height: 32px;\n",
              "      padding: 0 0 0 0;\n",
              "      width: 32px;\n",
              "    }\n",
              "\n",
              "    .colab-df-convert:hover {\n",
              "      background-color: #E2EBFA;\n",
              "      box-shadow: 0px 1px 2px rgba(60, 64, 67, 0.3), 0px 1px 3px 1px rgba(60, 64, 67, 0.15);\n",
              "      fill: #174EA6;\n",
              "    }\n",
              "\n",
              "    [theme=dark] .colab-df-convert {\n",
              "      background-color: #3B4455;\n",
              "      fill: #D2E3FC;\n",
              "    }\n",
              "\n",
              "    [theme=dark] .colab-df-convert:hover {\n",
              "      background-color: #434B5C;\n",
              "      box-shadow: 0px 1px 3px 1px rgba(0, 0, 0, 0.15);\n",
              "      filter: drop-shadow(0px 1px 2px rgba(0, 0, 0, 0.3));\n",
              "      fill: #FFFFFF;\n",
              "    }\n",
              "  </style>\n",
              "\n",
              "      <script>\n",
              "        const buttonEl =\n",
              "          document.querySelector('#df-ddad587a-0b9f-468c-8b41-728fad937737 button.colab-df-convert');\n",
              "        buttonEl.style.display =\n",
              "          google.colab.kernel.accessAllowed ? 'block' : 'none';\n",
              "\n",
              "        async function convertToInteractive(key) {\n",
              "          const element = document.querySelector('#df-ddad587a-0b9f-468c-8b41-728fad937737');\n",
              "          const dataTable =\n",
              "            await google.colab.kernel.invokeFunction('convertToInteractive',\n",
              "                                                     [key], {});\n",
              "          if (!dataTable) return;\n",
              "\n",
              "          const docLinkHtml = 'Like what you see? Visit the ' +\n",
              "            '<a target=\"_blank\" href=https://colab.research.google.com/notebooks/data_table.ipynb>data table notebook</a>'\n",
              "            + ' to learn more about interactive tables.';\n",
              "          element.innerHTML = '';\n",
              "          dataTable['output_type'] = 'display_data';\n",
              "          await google.colab.output.renderOutput(dataTable, element);\n",
              "          const docLink = document.createElement('div');\n",
              "          docLink.innerHTML = docLinkHtml;\n",
              "          element.appendChild(docLink);\n",
              "        }\n",
              "      </script>\n",
              "    </div>\n",
              "  </div>\n",
              "  "
            ],
            "text/plain": [
              "   Superficie    Prix\n",
              "0        2104  399900\n",
              "1        1600  329900\n",
              "2        2400  369000\n",
              "3        1416  232000\n",
              "4        3000  539900"
            ]
          },
          "execution_count": 23,
          "metadata": {},
          "output_type": "execute_result"
        }
      ],
      "source": [
        "header = ['Superficie', 'Prix']\n",
        "houses = pd.read_csv('data/houses.csv', names=header)\n",
        "\n",
        "houses.head()"
      ]
    },
    {
      "cell_type": "code",
      "execution_count": 24,
      "id": "6068aada",
      "metadata": {
        "colab": {
          "base_uri": "https://localhost:8080/"
        },
        "id": "6068aada",
        "outputId": "5a6282a5-1dd3-4455-9af8-e89b513aab62"
      },
      "outputs": [
        {
          "data": {
            "text/plain": [
              "(37, 10)"
            ]
          },
          "execution_count": 24,
          "metadata": {},
          "output_type": "execute_result"
        }
      ],
      "source": [
        "from sklearn.model_selection import train_test_split  \n",
        "\n",
        "Xhouses = houses.iloc[:, :-1].values # Premières colonnes \n",
        "Yhouses = houses.iloc[:,  -1].values # Dernière colonne \n",
        "\n",
        "Xhouses_train, Xhouses_test, Yhouses_train, Yhouses_test = train_test_split(Xhouses, Yhouses, \n",
        "                                                                            test_size    = 0.2, \n",
        "                                                                            random_state = 0\n",
        "                                                                           )  \n",
        "\n",
        "len(Xhouses_train), len(Xhouses_test)"
      ]
    },
    {
      "cell_type": "markdown",
      "id": "198937fb",
      "metadata": {
        "id": "198937fb"
      },
      "source": [
        "#### II.1.1. Qualité de prediction \n",
        "\n",
        "Ici, nous voulons tester la qualité de prédiction de la régression linéaire : est-ce qu'elle estime les sorties d'une manière exacte ou au moins d'une manière rapprochée. \n",
        "Pour ce faire, nous avons entraîné notre modèle sur les données d'entraînement (en bleu). \n",
        "Ensuite, nous avons essayé d'estimer les résultats de test (en vert : les sorties réelles ; en magenta : les sorties estimées)."
      ]
    },
    {
      "cell_type": "code",
      "execution_count": 25,
      "id": "8488257f",
      "metadata": {
        "colab": {
          "base_uri": "https://localhost:8080/",
          "height": 279
        },
        "id": "8488257f",
        "outputId": "dbaef9b2-16be-4d1b-cb85-746a8e83c822"
      },
      "outputs": [
        {
          "data": {
            "image/png": "[encoded data removed]",
            "text/plain": [
              "<Figure size 432x288 with 1 Axes>"
            ]
          },
          "metadata": {
            "needs_background": "light"
          },
          "output_type": "display_data"
        }
      ],
      "source": [
        "from sklearn.linear_model  import LinearRegression\n",
        "from sklearn.preprocessing import StandardScaler\n",
        "from sklearn.pipeline      import make_pipeline\n",
        "\n",
        "# Entraînement d'un modèle de régression linéaire \n",
        "regresseur1 = make_pipeline(StandardScaler(with_mean=False), LinearRegression())\n",
        "regresseur1.fit(Xhouses_train, Yhouses_train)\n",
        "\n",
        "Yhouses_pred = regresseur1.predict(Xhouses_test )\n",
        "Yhouses_line = regresseur1.predict(Xhouses_train)  \n",
        "\n",
        "# Visualiser la distribution des données d'entraînement et de test\n",
        "# Aussi, la ligne de prédiction et la prédiction du dataset de test\n",
        "plt.scatter(Xhouses_train, Yhouses_train, color='blue'  , label = 'entrainement'       )\n",
        "plt.scatter(Xhouses_test , Yhouses_test , color='green' , label = 'test'               )\n",
        "plt.plot   (Xhouses_train, Yhouses_line , color='red'   , label = 'ligne de prediction')\n",
        "plt.scatter(Xhouses_test , Yhouses_pred , color='violet', label = 'prediction'         )\n",
        "plt.xlabel('Superficie')\n",
        "plt.ylabel('Prix')\n",
        "plt.legend()\n",
        "plt.show()"
      ]
    },
    {
      "cell_type": "markdown",
      "id": "f564015a",
      "metadata": {
        "id": "f564015a"
      },
      "source": [
        "**TODO: Analyser les résultats**\n",
        "\n",
        "- Est-ce que la régression linéaire peut prédire exactement les valeurs Y ?\n",
        "- Pourquoi ?\n",
        "\n",
        "**Réponse**\n",
        "\n",
        "- On ne peux pas vraiment prédicter une valeur exacte des valeurs Y \n",
        "- Les données n'étant pas vraiment linéaires, il y a toujours du bruit qui ne peut pas être modélisé par une fonction linéaire, ce qui entraîne une petite marge d'erreur sur les résultats (Y)."
      ]
    },
    {
      "cell_type": "markdown",
      "id": "c584dbc0",
      "metadata": {
        "id": "c584dbc0"
      },
      "source": [
        "#### II.1.2. Biais\n",
        "\n",
        "Ici, nous voulons tester l'effet du biais et s'il est toujours utile.\n",
        "Pour ce faire, nous avons entraîné un autre modèle sans biais.\n",
        "Nous avons calculer l'erreur des deux modèles."
      ]
    },
    {
      "cell_type": "code",
      "execution_count": 26,
      "id": "b04a3bb4",
      "metadata": {
        "colab": {
          "base_uri": "https://localhost:8080/",
          "height": 112
        },
        "id": "b04a3bb4",
        "outputId": "4c175080-ec2b-4948-c70d-d12ef1dfdd12"
      },
      "outputs": [
        {
          "data": {
            "text/html": [
              "\n",
              "  <div id=\"df-f1db9d22-2c54-48a7-8e4d-c3a158538c45\">\n",
              "    <div class=\"colab-df-container\">\n",
              "      <div>\n",
              "<style scoped>\n",
              "    .dataframe tbody tr th:only-of-type {\n",
              "        vertical-align: middle;\n",
              "    }\n",
              "\n",
              "    .dataframe tbody tr th {\n",
              "        vertical-align: top;\n",
              "    }\n",
              "\n",
              "    .dataframe thead th {\n",
              "        text-align: right;\n",
              "    }\n",
              "</style>\n",
              "<table border=\"1\" class=\"dataframe\">\n",
              "  <thead>\n",
              "    <tr style=\"text-align: right;\">\n",
              "      <th></th>\n",
              "      <th>Modèle</th>\n",
              "      <th>Erreur (MSE)</th>\n",
              "      <th>Erreur (MAE)</th>\n",
              "    </tr>\n",
              "  </thead>\n",
              "  <tbody>\n",
              "    <tr>\n",
              "      <th>0</th>\n",
              "      <td>avec biais</td>\n",
              "      <td>5.821821e+09</td>\n",
              "      <td>69100.263620</td>\n",
              "    </tr>\n",
              "    <tr>\n",
              "      <th>1</th>\n",
              "      <td>sans biais</td>\n",
              "      <td>4.646623e+09</td>\n",
              "      <td>58764.434393</td>\n",
              "    </tr>\n",
              "  </tbody>\n",
              "</table>\n",
              "</div>\n",
              "      <button class=\"colab-df-convert\" onclick=\"convertToInteractive('df-f1db9d22-2c54-48a7-8e4d-c3a158538c45')\"\n",
              "              title=\"Convert this dataframe to an interactive table.\"\n",
              "              style=\"display:none;\">\n",
              "        \n",
              "  <svg xmlns=\"http://www.w3.org/2000/svg\" height=\"24px\"viewBox=\"0 0 24 24\"\n",
              "       width=\"24px\">\n",
              "    <path d=\"M0 0h24v24H0V0z\" fill=\"none\"/>\n",
              "    <path d=\"M18.56 5.44l.94 2.06.94-2.06 2.06-.94-2.06-.94-.94-2.06-.94 2.06-2.06.94zm-11 1L8.5 8.5l.94-2.06 2.06-.94-2.06-.94L8.5 2.5l-.94 2.06-2.06.94zm10 10l.94 2.06.94-2.06 2.06-.94-2.06-.94-.94-2.06-.94 2.06-2.06.94z\"/><path d=\"M17.41 7.96l-1.37-1.37c-.4-.4-.92-.59-1.43-.59-.52 0-1.04.2-1.43.59L10.3 9.45l-7.72 7.72c-.78.78-.78 2.05 0 2.83L4 21.41c.39.39.9.59 1.41.59.51 0 1.02-.2 1.41-.59l7.78-7.78 2.81-2.81c.8-.78.8-2.07 0-2.86zM5.41 20L4 18.59l7.72-7.72 1.47 1.35L5.41 20z\"/>\n",
              "  </svg>\n",
              "      </button>\n",
              "      \n",
              "  <style>\n",
              "    .colab-df-container {\n",
              "      display:flex;\n",
              "      flex-wrap:wrap;\n",
              "      gap: 12px;\n",
              "    }\n",
              "\n",
              "    .colab-df-convert {\n",
              "      background-color: #E8F0FE;\n",
              "      border: none;\n",
              "      border-radius: 50%;\n",
              "      cursor: pointer;\n",
              "      display: none;\n",
              "      fill: #1967D2;\n",
              "      height: 32px;\n",
              "      padding: 0 0 0 0;\n",
              "      width: 32px;\n",
              "    }\n",
              "\n",
              "    .colab-df-convert:hover {\n",
              "      background-color: #E2EBFA;\n",
              "      box-shadow: 0px 1px 2px rgba(60, 64, 67, 0.3), 0px 1px 3px 1px rgba(60, 64, 67, 0.15);\n",
              "      fill: #174EA6;\n",
              "    }\n",
              "\n",
              "    [theme=dark] .colab-df-convert {\n",
              "      background-color: #3B4455;\n",
              "      fill: #D2E3FC;\n",
              "    }\n",
              "\n",
              "    [theme=dark] .colab-df-convert:hover {\n",
              "      background-color: #434B5C;\n",
              "      box-shadow: 0px 1px 3px 1px rgba(0, 0, 0, 0.15);\n",
              "      filter: drop-shadow(0px 1px 2px rgba(0, 0, 0, 0.3));\n",
              "      fill: #FFFFFF;\n",
              "    }\n",
              "  </style>\n",
              "\n",
              "      <script>\n",
              "        const buttonEl =\n",
              "          document.querySelector('#df-f1db9d22-2c54-48a7-8e4d-c3a158538c45 button.colab-df-convert');\n",
              "        buttonEl.style.display =\n",
              "          google.colab.kernel.accessAllowed ? 'block' : 'none';\n",
              "\n",
              "        async function convertToInteractive(key) {\n",
              "          const element = document.querySelector('#df-f1db9d22-2c54-48a7-8e4d-c3a158538c45');\n",
              "          const dataTable =\n",
              "            await google.colab.kernel.invokeFunction('convertToInteractive',\n",
              "                                                     [key], {});\n",
              "          if (!dataTable) return;\n",
              "\n",
              "          const docLinkHtml = 'Like what you see? Visit the ' +\n",
              "            '<a target=\"_blank\" href=https://colab.research.google.com/notebooks/data_table.ipynb>data table notebook</a>'\n",
              "            + ' to learn more about interactive tables.';\n",
              "          element.innerHTML = '';\n",
              "          dataTable['output_type'] = 'display_data';\n",
              "          await google.colab.output.renderOutput(dataTable, element);\n",
              "          const docLink = document.createElement('div');\n",
              "          docLink.innerHTML = docLinkHtml;\n",
              "          element.appendChild(docLink);\n",
              "        }\n",
              "      </script>\n",
              "    </div>\n",
              "  </div>\n",
              "  "
            ],
            "text/plain": [
              "       Modèle  Erreur (MSE)  Erreur (MAE)\n",
              "0  avec biais  5.821821e+09  69100.263620\n",
              "1  sans biais  4.646623e+09  58764.434393"
            ]
          },
          "execution_count": 26,
          "metadata": {},
          "output_type": "execute_result"
        }
      ],
      "source": [
        "from sklearn.metrics       import mean_squared_error\n",
        "from sklearn.metrics       import mean_absolute_error\n",
        "\n",
        "# Entraînement d'un modèle de régression linéaire sans biais\n",
        "regresseur2 = make_pipeline(StandardScaler(with_mean=False), LinearRegression(fit_intercept=False))\n",
        "regresseur2.fit(Xhouses_train, Yhouses_train)\n",
        "\n",
        "Yhouses_pred2 = regresseur2.predict(Xhouses_test )\n",
        "\n",
        "\n",
        "pd.DataFrame({\n",
        "    'Modèle'         : ['avec biais', 'sans biais'],\n",
        "    'Erreur (MSE)'   : [mean_squared_error(Yhouses_test, Yhouses_pred), \n",
        "                        mean_squared_error(Yhouses_test, Yhouses_pred2)],\n",
        "    'Erreur (MAE)'   : [mean_absolute_error(Yhouses_test, Yhouses_pred), \n",
        "                        mean_absolute_error(Yhouses_test, Yhouses_pred2)],\n",
        "})"
      ]
    },
    {
      "cell_type": "markdown",
      "id": "f0fbbee0",
      "metadata": {
        "id": "f0fbbee0"
      },
      "source": [
        "**TODO: Analyser les résultats**\n",
        "\n",
        "En se basant sur l'erreur :\n",
        "- Est-ce que le biais est toujours utile ?\n",
        "- Expliquer pourquoi le 2ieme modèle a eu une meilleure performance ?\n",
        "\n",
        "**Réponse**\n",
        "\n",
        "- NON , pas toujours\n",
        "- Dans le cas ou on as des valeurs des données qui commence a partir d'une valeur trés grande ( valeurs de données  tres grands )(données non normalisé et non centré) c'est mieux d'utiliser un biais pour se rapprocher des  valeurs de données, sinon pour des données petits(données centré et normalisé) on peux négliger le biais(c'est mieux de ne pas utiliser le biais), Dans notre cas le deuxiéme modéle (sans biais) a eu de meilleur performance car on est dans le cas de données normalisé et centré.   "
      ]
    },
    {
      "cell_type": "markdown",
      "id": "f9e682e6",
      "metadata": {
        "id": "f9e682e6"
      },
      "source": [
        "### II.2. Régression logistique binaire\n",
        "\n",
        "Pour tester la régression logistique, nous allons essayer d'estimer si un étudiant est admis en se basant sur deux notes.\n",
        "Bien sûr, il est admis si la moyenne des deux notes est supérieure ou égale à 10. \n",
        "Dans ce cas, la séparation entre admis et non admis est linèaire.\n",
        "Les données d'entraînement et de test ont été générées automatiquement en utilisant le script joint à ce TP."
      ]
    },
    {
      "cell_type": "code",
      "execution_count": 27,
      "id": "8bcfb731",
      "metadata": {
        "colab": {
          "base_uri": "https://localhost:8080/",
          "height": 206
        },
        "id": "8bcfb731",
        "outputId": "e159084d-3e47-41f5-9fb7-61844c7e2fcb"
      },
      "outputs": [
        {
          "data": {
            "text/html": [
              "\n",
              "  <div id=\"df-44f724f2-bb30-4cd4-a337-e1152bfb4867\">\n",
              "    <div class=\"colab-df-container\">\n",
              "      <div>\n",
              "<style scoped>\n",
              "    .dataframe tbody tr th:only-of-type {\n",
              "        vertical-align: middle;\n",
              "    }\n",
              "\n",
              "    .dataframe tbody tr th {\n",
              "        vertical-align: top;\n",
              "    }\n",
              "\n",
              "    .dataframe thead th {\n",
              "        text-align: right;\n",
              "    }\n",
              "</style>\n",
              "<table border=\"1\" class=\"dataframe\">\n",
              "  <thead>\n",
              "    <tr style=\"text-align: right;\">\n",
              "      <th></th>\n",
              "      <th>Note1</th>\n",
              "      <th>Note2</th>\n",
              "      <th>Admis</th>\n",
              "    </tr>\n",
              "  </thead>\n",
              "  <tbody>\n",
              "    <tr>\n",
              "      <th>0</th>\n",
              "      <td>9.75</td>\n",
              "      <td>16.00</td>\n",
              "      <td>1</td>\n",
              "    </tr>\n",
              "    <tr>\n",
              "      <th>1</th>\n",
              "      <td>2.25</td>\n",
              "      <td>9.50</td>\n",
              "      <td>0</td>\n",
              "    </tr>\n",
              "    <tr>\n",
              "      <th>2</th>\n",
              "      <td>4.50</td>\n",
              "      <td>2.50</td>\n",
              "      <td>0</td>\n",
              "    </tr>\n",
              "    <tr>\n",
              "      <th>3</th>\n",
              "      <td>15.50</td>\n",
              "      <td>10.25</td>\n",
              "      <td>1</td>\n",
              "    </tr>\n",
              "    <tr>\n",
              "      <th>4</th>\n",
              "      <td>3.25</td>\n",
              "      <td>19.50</td>\n",
              "      <td>1</td>\n",
              "    </tr>\n",
              "  </tbody>\n",
              "</table>\n",
              "</div>\n",
              "      <button class=\"colab-df-convert\" onclick=\"convertToInteractive('df-44f724f2-bb30-4cd4-a337-e1152bfb4867')\"\n",
              "              title=\"Convert this dataframe to an interactive table.\"\n",
              "              style=\"display:none;\">\n",
              "        \n",
              "  <svg xmlns=\"http://www.w3.org/2000/svg\" height=\"24px\"viewBox=\"0 0 24 24\"\n",
              "       width=\"24px\">\n",
              "    <path d=\"M0 0h24v24H0V0z\" fill=\"none\"/>\n",
              "    <path d=\"M18.56 5.44l.94 2.06.94-2.06 2.06-.94-2.06-.94-.94-2.06-.94 2.06-2.06.94zm-11 1L8.5 8.5l.94-2.06 2.06-.94-2.06-.94L8.5 2.5l-.94 2.06-2.06.94zm10 10l.94 2.06.94-2.06 2.06-.94-2.06-.94-.94-2.06-.94 2.06-2.06.94z\"/><path d=\"M17.41 7.96l-1.37-1.37c-.4-.4-.92-.59-1.43-.59-.52 0-1.04.2-1.43.59L10.3 9.45l-7.72 7.72c-.78.78-.78 2.05 0 2.83L4 21.41c.39.39.9.59 1.41.59.51 0 1.02-.2 1.41-.59l7.78-7.78 2.81-2.81c.8-.78.8-2.07 0-2.86zM5.41 20L4 18.59l7.72-7.72 1.47 1.35L5.41 20z\"/>\n",
              "  </svg>\n",
              "      </button>\n",
              "      \n",
              "  <style>\n",
              "    .colab-df-container {\n",
              "      display:flex;\n",
              "      flex-wrap:wrap;\n",
              "      gap: 12px;\n",
              "    }\n",
              "\n",
              "    .colab-df-convert {\n",
              "      background-color: #E8F0FE;\n",
              "      border: none;\n",
              "      border-radius: 50%;\n",
              "      cursor: pointer;\n",
              "      display: none;\n",
              "      fill: #1967D2;\n",
              "      height: 32px;\n",
              "      padding: 0 0 0 0;\n",
              "      width: 32px;\n",
              "    }\n",
              "\n",
              "    .colab-df-convert:hover {\n",
              "      background-color: #E2EBFA;\n",
              "      box-shadow: 0px 1px 2px rgba(60, 64, 67, 0.3), 0px 1px 3px 1px rgba(60, 64, 67, 0.15);\n",
              "      fill: #174EA6;\n",
              "    }\n",
              "\n",
              "    [theme=dark] .colab-df-convert {\n",
              "      background-color: #3B4455;\n",
              "      fill: #D2E3FC;\n",
              "    }\n",
              "\n",
              "    [theme=dark] .colab-df-convert:hover {\n",
              "      background-color: #434B5C;\n",
              "      box-shadow: 0px 1px 3px 1px rgba(0, 0, 0, 0.15);\n",
              "      filter: drop-shadow(0px 1px 2px rgba(0, 0, 0, 0.3));\n",
              "      fill: #FFFFFF;\n",
              "    }\n",
              "  </style>\n",
              "\n",
              "      <script>\n",
              "        const buttonEl =\n",
              "          document.querySelector('#df-44f724f2-bb30-4cd4-a337-e1152bfb4867 button.colab-df-convert');\n",
              "        buttonEl.style.display =\n",
              "          google.colab.kernel.accessAllowed ? 'block' : 'none';\n",
              "\n",
              "        async function convertToInteractive(key) {\n",
              "          const element = document.querySelector('#df-44f724f2-bb30-4cd4-a337-e1152bfb4867');\n",
              "          const dataTable =\n",
              "            await google.colab.kernel.invokeFunction('convertToInteractive',\n",
              "                                                     [key], {});\n",
              "          if (!dataTable) return;\n",
              "\n",
              "          const docLinkHtml = 'Like what you see? Visit the ' +\n",
              "            '<a target=\"_blank\" href=https://colab.research.google.com/notebooks/data_table.ipynb>data table notebook</a>'\n",
              "            + ' to learn more about interactive tables.';\n",
              "          element.innerHTML = '';\n",
              "          dataTable['output_type'] = 'display_data';\n",
              "          await google.colab.output.renderOutput(dataTable, element);\n",
              "          const docLink = document.createElement('div');\n",
              "          docLink.innerHTML = docLinkHtml;\n",
              "          element.appendChild(docLink);\n",
              "        }\n",
              "      </script>\n",
              "    </div>\n",
              "  </div>\n",
              "  "
            ],
            "text/plain": [
              "   Note1  Note2  Admis\n",
              "0   9.75  16.00      1\n",
              "1   2.25   9.50      0\n",
              "2   4.50   2.50      0\n",
              "3  15.50  10.25      1\n",
              "4   3.25  19.50      1"
            ]
          },
          "execution_count": 27,
          "metadata": {},
          "output_type": "execute_result"
        }
      ],
      "source": [
        "notes = pd.read_csv('data/notes.csv')\n",
        "\n",
        "# Extraction des caractéristiques \n",
        "X_notes = notes.iloc[:, :-1].values # Premières colonnes \n",
        "Y_notes = notes.iloc[:,  -1].values # Dernière colonne \n",
        "\n",
        "X_notes_norm = X_notes/20 # Nous savons le maximum\n",
        "\n",
        "# créer un normalisateur pour apprendre de l'entrainement et clip avec le test\n",
        "# puisque nous savons la valeur max et min\n",
        "# cette etape est inutile => commenter\n",
        "\n",
        "# from sklearn.preprocessing import MinMaxScaler\n",
        "# mms = MinMaxScaler(clip=True) \n",
        "# X_notes_norm = mms.fit_transform(X_notes)\n",
        "\n",
        "notes.head()"
      ]
    },
    {
      "cell_type": "markdown",
      "id": "44aea63f",
      "metadata": {
        "id": "44aea63f"
      },
      "source": [
        "#### II.2.1. Normalisation et convergence \n",
        "\n",
        "Nous voulons tester l'effet de la normalisation sur la vitesse de convergence du modèle.\n",
        "Pour ce faire, nous avons entraîné deux modèles : un sans normalisation et l'autre avec normalisation.\n",
        "\n",
        "**Remarque** : le coût n'est pas lisse puisqu'on applique une seule itération avec \"warm start\" afin de controler les iteration en dehors du modèle (récupérer les erreurs pour chaque itération)."
      ]
    },
    {
      "cell_type": "code",
      "execution_count": 28,
      "id": "b545592b",
      "metadata": {
        "colab": {
          "base_uri": "https://localhost:8080/",
          "height": 279
        },
        "id": "b545592b",
        "outputId": "2fba9661-ac3b-46ff-d501-129cc5366c12"
      },
      "outputs": [
        {
          "data": {
            "image/png": "[encoded data removed]",
            "text/plain": [
              "<Figure size 432x288 with 1 Axes>"
            ]
          },
          "metadata": {
            "needs_background": "light"
          },
          "output_type": "display_data"
        }
      ],
      "source": [
        "from sklearn.linear_model import LogisticRegression\n",
        "from sklearn.linear_model import SGDClassifier\n",
        "from sklearn.metrics import log_loss\n",
        "\n",
        "# ce block du code est pour filtrer les avertissements concernant la convergence du modèle\n",
        "# en général, lorsque e nombre des itérations n'est pas suffisant pour atteindre l'erreur minimale\n",
        "import warnings\n",
        "from sklearn.exceptions import ConvergenceWarning\n",
        "warnings.filterwarnings('ignore', category=ConvergenceWarning)\n",
        "\n",
        "ALPHA = 0.01\n",
        "ITMAX = 200\n",
        "\n",
        "# Création des modèles\n",
        "# sans normalisation\n",
        "# reg_log_nonorm = LogisticRegression(penalty=None, max_iter=1, warm_start=True) \n",
        "reg_log_nonorm = SGDClassifier(penalty=None, \n",
        "                               max_iter=1, \n",
        "                               warm_start=True, \n",
        "                               loss='log_loss',\n",
        "                               learning_rate='constant', \n",
        "                               eta0=ALPHA, shuffle=False)\n",
        "# avec normalisation\n",
        "# reg_log_norm   = LogisticRegression(penalty=None, max_iter=1, warm_start=True)   \n",
        "reg_log_norm = SGDClassifier(penalty=None, \n",
        "                               max_iter=1, \n",
        "                               warm_start=True, \n",
        "                               loss='log_loss',\n",
        "                               learning_rate='constant', \n",
        "                               eta0=ALPHA, shuffle=False)\n",
        "\n",
        "# Entraînement des modèles\n",
        "couts_nonorm = []\n",
        "couts_norm   = []\n",
        "for it in range(ITMAX):\n",
        "    reg_log_nonorm.fit(X_notes, Y_notes)\n",
        "    reg_log_norm.fit(X_notes_norm, Y_notes)\n",
        "    couts_nonorm.append(log_loss(Y_notes, reg_log_nonorm.predict(X_notes)))\n",
        "    couts_norm.append(log_loss(Y_notes, reg_log_norm.predict(X_notes_norm)))\n",
        "\n",
        "# Visualisation de la convergence\n",
        "plt.plot(couts_nonorm, label = 'sans normalisation')\n",
        "plt.plot(couts_norm  , label = 'avec normalisation')\n",
        "plt.xlabel('Nombre des itérations')\n",
        "plt.ylabel('Coût')\n",
        "plt.legend()\n",
        "#plt.autoscale()\n",
        "plt.show()"
      ]
    },
    {
      "attachments": {},
      "cell_type": "markdown",
      "id": "12a51ba8",
      "metadata": {
        "id": "12a51ba8"
      },
      "source": [
        "**TODO: Analyser les résultats**\n",
        "\n",
        "- Que remarquez-vous ?\n",
        "- Donner une hypothèse (vitesse de convergence avec normalisation)\n",
        "- Essayer de justifier cette hypothèse par ce que vous avez vu en cours.\n",
        "\n",
        "**Réponse**\n",
        "\n",
        "- On remarque  que pour un petit nombre d'itérations  la convergance est presque la meme pour les deux cas ( avec et sans normalaisation ) , et plus en augmente le nombre d'itérations plus on remarque qu'avec normalisation est plus rapide que sans normalisation ,  comme on remarque que le cout diminue pour des grands valeures de nombre d'itérations pour les deux cas. \n",
        " En resumé  , le modéle avec normalisation converge plus rapidement que sans normalisation \n",
        "- La convergence dans le cas avec  normalisation est  plus rapide que sans normalisaton.si on normalise pas alors nous aurons un gradient trés grand (plus important) pour les poids liées a l'une des caractérestique par rapport aux gradients des autres poids , ce qui vas empêcher l'algorithme de converger vers l'optima(minimum)\n",
        "\n",
        "- Avec la normalisation des données on reduit l'ecart de valeur entre les différentes variables , ce qui permet de trouver plus rapidement des optima  , ce qui peut redruire le nombre d'itérations pour ceonverger , et nous donne une convergence plus rapide.\n",
        "en résumé on peux justifier par la mise a jour des paramétres lors du descent gradient.Et le faite qu'avec la normalisation les valeurs sont plus petites on aura donc des petits pas ce qui nous permet d'éviter la divergence.\n",
        "\n"
      ]
    },
    {
      "cell_type": "markdown",
      "id": "c71e2488",
      "metadata": {
        "id": "c71e2488"
      },
      "source": [
        "#### II.2.2. Taux d'apprentissage et convergence \n",
        "\n",
        "Ici, nous avons varié le taux d'apprentissage et affiché les courbes de la fonction objective en fonction de nombre d'itérations. \n",
        "Nous voulons tester l'effet du taux d'apprentissage sur la convergence de notre modèle de régression.\n"
      ]
    },
    {
      "cell_type": "code",
      "execution_count": 29,
      "id": "7a34a29a",
      "metadata": {
        "colab": {
          "base_uri": "https://localhost:8080/",
          "height": 279
        },
        "id": "7a34a29a",
        "outputId": "7d1bbaf0-f340-49a5-a05c-0a15ec20aed7"
      },
      "outputs": [
        {
          "data": {
            "image/png": "[encoded data removed]",
            "text/plain": [
              "<Figure size 432x288 with 1 Axes>"
            ]
          },
          "metadata": {
            "needs_background": "light"
          },
          "output_type": "display_data"
        }
      ],
      "source": [
        "from sklearn.linear_model import SGDClassifier\n",
        "\n",
        "ITMAX  = 100\n",
        "alphas = [1., 0.1, 0.01, 0.001]\n",
        "\n",
        "# Création et entraînement des nouveaux modèles de régression linéaire\n",
        "for alpha in alphas:\n",
        "    # Création d'un nouveau modèle de régression linéaire\n",
        "    modele = SGDClassifier(penalty=None, \n",
        "                          max_iter=1, \n",
        "                          warm_start=True, \n",
        "                          loss='log_loss',\n",
        "                          learning_rate='constant', \n",
        "                          eta0=alpha, shuffle=False)\n",
        "    couts = []\n",
        "    for it in range(ITMAX):\n",
        "        # Entraînement du modèle\n",
        "        modele.fit(X_notes_norm, Y_notes)\n",
        "        couts.append(log_loss(Y_notes, modele.predict(X_notes_norm)))\n",
        "        \n",
        "    # Visualisation de la convergence\n",
        "    plt.plot(couts, label = 'alpha=' + str(alpha))\n",
        "    \n",
        "plt.xlabel('Nombre des itérations')\n",
        "plt.ylabel('Coût')\n",
        "plt.legend()\n",
        "#plt.autoscale()\n",
        "plt.show()"
      ]
    },
    {
      "cell_type": "markdown",
      "id": "eb7143a3",
      "metadata": {
        "id": "eb7143a3"
      },
      "source": [
        "**TODO: Analyser les résultats**\n",
        "\n",
        "- Que remarquez-vous ? (Il faut décrire les résultats).\n",
        "- Donner une hypothèse concernant le rapport entre le taux et la vitesse de convergence.\n",
        "- Essayer de justifier cette hypothèse par ce que vous avez vu en cours.\n",
        "- Pourquoi nous ne devons pas utiliser un taux égale à 1 avec seulement une itération en pratique (quel est le risque) ?\n",
        "\n",
        "**Réponse**\n",
        "\n",
        "- On remarque que pour alpha=0.001 on  ontien un trés grand coût qui est  presque un  stable pour toute valeur de nombre d'itérations. et que plus on augment ce parametre on le multipliant par 10 on obtient un coût qui se diminue a chaque fosi qu'on augmente le nombre d'itérations , pour une  alpha=0.01 le coût au début est le meme que celui de alpha=0.001 et on remarque qu'il se diminue en augemntant le nombre d'itération et qu'il se stabilise pour toute valeur >60 de nombre d'itérations , et pour une  alpha=0.1 le coût au début est le presque meme que celui de alpha=0.001 et on remarque qu'il se diminue rapidement  en augementant le nombre d'itérations et qu'il se stabilise a une valeur plus petite que celle de alpha = 0.01 pour toute valeur >65 de nombre d'itération , et pour une alpha=1 on remarque que le coût est initialament  inférieur a 5 qui est trés petit parapport au autres cas , et qu'il ce diminue en augmentant le nombre d'itérations , et il se stablise pour une valeur >10 de nombre d'itérations a une valeur trés petite par rapport au autres cas.\n",
        "\n",
        "**en resumé , pour les quatres taux le coût diminue en augmentant le nombre d'itérations et l'algorithme converge toujours vers un coût qui est optimale pour toutes valeurs de alpha(les quatres)**\n",
        "\n",
        "- Lorsque nous diminuons la valeur d'alpha(taux), la vitesse de convergence diminue, nous avons une relation proportionnelle entre ces deux éléments.\n",
        "- On utilisons une grande valeur de alpha on avance avec grands pas   ce qui permet d'arriver plus rapidemenet a l'optimum global  , ce qui réduit le nobre d'itéraions pour arriver a la convergence,et qui nous donne une convergence plus rapide et pour un petit taux l'algorithme avance avec des petits pas ce qui diminue la vitesse de convergence .sachant que si on prend une grande valeur de ce taux on peut rater le minimum ce qui causera une divergence.\n",
        "- Nous ne devons pas utiliser un taux égale à 1 avec seulement une itération en pratique car 1 est un taux trés grand ,  on risque d'avoir une divergence  , meme on peux rater le minimum global et ne pas l'atteindre,  . "
      ]
    },
    {
      "cell_type": "markdown",
      "id": "28a7ac5e",
      "metadata": {
        "id": "28a7ac5e"
      },
      "source": [
        "#### II.2.3. Complexité du modèle et séparation\n",
        "\n",
        "Nous voulons améliorer la séparation entre les deux classes : \"admis\" et \"non admis\". \n",
        "Pour ce faire, nous avons essayer d'utiliser des caractéristiques complexes : $X^3$ et $X^5$."
      ]
    },
    {
      "cell_type": "code",
      "execution_count": 30,
      "id": "a3f24fc0",
      "metadata": {
        "colab": {
          "base_uri": "https://localhost:8080/",
          "height": 338
        },
        "id": "a3f24fc0",
        "outputId": "33c7485b-7337-46ee-9c1a-6bb37ac7d2dd"
      },
      "outputs": [
        {
          "data": {
            "image/png": "[encoded data removed]",
            "text/plain": [
              "<Figure size 720x360 with 1 Axes>"
            ]
          },
          "metadata": {
            "needs_background": "light"
          },
          "output_type": "display_data"
        }
      ],
      "source": [
        "from sklearn.preprocessing import PolynomialFeatures\n",
        "from sklearn.linear_model  import LogisticRegression\n",
        "\n",
        "degres = [3, 5]\n",
        "couleurs=['red', 'magenta', 'blue']\n",
        "\n",
        "# Une fonction pour dessiner le plan de séparation binaire étant donnée un modèle\n",
        "# modele : c'est un modèle enttraîné pour la prédiction binaire\n",
        "# ax: un objet de type matplotlib.axes.Axes; les axes sur lesquels on va dessiner\n",
        "# xrange: une liste des points sur l'axe X\n",
        "# yrange: une liste des points sur l'axe Y\n",
        "# couleur: la couleur du dessin (de la ligne de séparation)\n",
        "# label: l'étiquêtte du dessin (la ligne de séparation)\n",
        "def dessiner2D(modele, ax, xrange, yrange, couleur='red', label=''):\n",
        "    # Créer une matrice de (xrange X yrange): notre plan de dessin\n",
        "    XX   = [[[xr, yr] for xr in xrange] for yr in yrange]\n",
        "    # Représenter le sous forme d'une matrice de (xrange X yrange)/2 échantillons et 2 caractéristiques\n",
        "    XX   = np.array(XX).reshape(-1, 2)\n",
        "    # Prédire les probabilités (estimation) et retransformer vers notre plan (xrange X yrange)\n",
        "    grid = modele.predict(XX).reshape(len(xrange), len(yrange))\n",
        "    # Dessiner des lignes qui passent par les valeurs 0.5\n",
        "    cs   = ax.contour(xrange, yrange, grid, colors=[couleur], linewidths=(1), linestyles=('-'),levels=[0.5])\n",
        "    # Affecter l'étiquêtte à la ligne de séparation (qui es un contour dans notre cas)\n",
        "    # plt.clabel(cs, inline=1, fontsize=10)\n",
        "    # cs.collections[0].set_label(label)\n",
        "    fmt = {cs.levels[0]: label}\n",
        "    ax.clabel(cs, cs.levels, inline=True, fmt=fmt, fontsize=14)\n",
        "    \n",
        "\n",
        "\n",
        "X_notes_train = X_notes[:80, :]\n",
        "X_notes_test  = X_notes[80:, :]\n",
        "Y_notes_train = Y_notes[:80   ]\n",
        "Y_notes_test  = Y_notes[80:   ]\n",
        "\n",
        "# Trouver les indexes ordonnées \n",
        "idx2 = X_notes_train[:,0].argsort()\n",
        "\n",
        "# Sélectionner le cas \"admis\" dans l'entraînement et le test\n",
        "oui_train = Y_notes_train == 1\n",
        "oui_test  = Y_notes_test  == 1\n",
        "\n",
        "# Dessiner les cas \"admis\" et \"Non admis\" de l'entraînement et du test\n",
        "fig, ax = plt.subplots(figsize=(10, 5))\n",
        "ax.scatter(X_notes_train[oui_train, 0], \n",
        "           X_notes_train[oui_train, 1], \n",
        "           color='green', marker='o', label='Admis (entrainement)')\n",
        "ax.scatter(X_notes_train[~oui_train, 0], \n",
        "           X_notes_train[~oui_train, 1], \n",
        "           color='green', marker='x', label='Non Admis (entrainement)')\n",
        "ax.scatter(X_notes_test[oui_test, 0], \n",
        "           X_notes_test[oui_test, 1], \n",
        "           color='red', marker='o', label='Admis (test)')\n",
        "ax.scatter(X_notes_test[~oui_test, 0], \n",
        "           X_notes_test[~oui_test, 1], \n",
        "           color='red', marker='x', label='Non Admis (test)')\n",
        "\n",
        "# Créer l'espace des notes : entre 0 et 20 avec une résolution de 50\n",
        "xrange = np.linspace(0, 20, 50) # Note 1\n",
        "yrange = np.linspace(0, 20, 50) # Note 2\n",
        "\n",
        "# Dessiner la ligne de séparation dans une régression linéaire\n",
        "reglog1 = LogisticRegression(penalty=None)\n",
        "reglog1.fit(X_notes_train, Y_notes_train)\n",
        "dessiner2D(reglog1, ax, xrange, yrange, label='X')\n",
        "\n",
        "modeles = [reglog1]\n",
        "\n",
        "# Dessiner la ligne de séparation dans une régression polynomiale\n",
        "# Le modèle dans ce cas est un pipeline qui commence par créer des caractéristiques polynomiales\n",
        "# ensuite passe le résultat vers un modèle de régression logistique\n",
        "for i in range(len(degres)):\n",
        "    modele = make_pipeline(PolynomialFeatures(degree=degres[i], include_bias=False),\n",
        "                           LogisticRegression(penalty=None))\n",
        "    modele.fit(X_notes_train, Y_notes_train)\n",
        "    dessiner2D(modele, ax, xrange, yrange, couleur=couleurs[i+1], label='X^' + str(degres[i]))\n",
        "    modeles.append(modele)\n",
        "\n",
        "plt.xlabel('Note 1')\n",
        "plt.ylabel('Note 2')\n",
        "plt.legend(loc='upper right')\n",
        "plt.show()"
      ]
    },
    {
      "cell_type": "markdown",
      "id": "dc6b28ab",
      "metadata": {
        "id": "dc6b28ab"
      },
      "source": [
        "**TODO: Analyser les résultats**\n",
        "\n",
        "- Que remarquez-vous (les nouveaux modèles ont-ils été capables d'améliorer le modèle initial: l'adjustement/fitting et la généralisation) ? \n",
        "- Donner une hypothèse (Quelle est la raison d'amélioration/détérioration ?) \n",
        "- Essayer de justifier cette hypothèse par ce que vous avez vu en cours.\n",
        "\n",
        "**Réponse**\n",
        "\n",
        "- Les nouveaux modèles sont mieux adaptés aux données d'apprentissage(entrainement), mais leur généralisation est inférieure à celle du modèle initial(l'ancien modèle est mieux généralisé)\n",
        "- L'augmentation du nombre de paramtres du modéle a causé une détérioration, ce  qui a abouti à un Surapprentissage(overfitting)\n",
        "- L'ajout de paramétres du modéle  peut augmenter son capacité de s'adapter aux données d'entrainement(surapprentissage), mais ça peut le rendre plus sensible au bruits dans les données.Ce qui peut conduire à de mauvais résultats lors des tests."
      ]
    }
  ],
  "metadata": {
    "colab": {
      "provenance": []
    },
    "kernelspec": {
      "display_name": "Python 3 (ipykernel)",
      "language": "python",
      "name": "python3"
    },
    "language_info": {
      "codemirror_mode": {
        "name": "ipython",
        "version": 3
      },
      "file_extension": ".py",
      "mimetype": "text/x-python",
      "name": "python",
      "nbconvert_exporter": "python",
      "pygments_lexer": "ipython3",
      "version": "3.10.6"
    }
  },
  "nbformat": 4,
  "nbformat_minor": 5
}
